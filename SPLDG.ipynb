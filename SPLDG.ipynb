{
 "cells": [
  {
   "cell_type": "markdown",
   "metadata": {},
   "source": [
    "<div style=\"background-color: #EEEFFF; padding: 10px;\">\n",
    "\\begin{align*}\n",
    "    \\Large{(2025)}\n",
    "\\end{align*}\n",
    "\n",
    "\\begin{align*}\n",
    "    \\Large{Information\\hspace{0.3cm} Fusion}\n",
    " \\end{align*}"
   ]
  },
  {
   "cell_type": "markdown",
   "metadata": {},
   "source": [
    "\\begin{align*}\n",
    "\\Large{\n",
    "\\textbf{Sparse Multi-Label Feature Selection via Pseudo-Label Learning} \\\\\n",
    "\\textbf{and Dynamic Graph Constraints with Sparse Supplementation}\n",
    "}\n",
    "\\end{align*}\n",
    "\n",
    "\n",
    "\\begin{align*}\n",
    "\\mathcal{J}(W, V, b) = & \\; \\| X W + \\mathbf{1} b - V \\|_F^2 + \\alpha \\Big( \\| Y + V \\|_1 - 2 \\| Y \\odot V \\|_1 \\Big) + \\beta \\, \\mathrm{tr}(W^\\top L_{XT} W) + \\gamma \\Big( \\mathrm{tr}(V^\\top L_Y V) + \\mathrm{tr}(W L_{VT} W^\\top) \\Big)\n",
    "\\end{align*}\n"
   ]
  },
  {
   "cell_type": "code",
   "execution_count": 1,
   "metadata": {},
   "outputs": [
    {
     "name": "stdout",
     "output_type": "stream",
     "text": [
      "CPU\n"
     ]
    }
   ],
   "source": [
    "import numpy as np\n",
    "from scipy.io import loadmat\n",
    "import os\n",
    "import torch\n",
    "import json\n",
    "from tqdm import tqdm\n",
    "from pathlib import Path\n",
    "from sklearn.cluster import KMeans\n",
    "from sklearn.neighbors import kneighbors_graph\n",
    "from skmultilearn.adapt import MLkNN\n",
    "from numpy.matlib import repmat\n",
    "import matplotlib.pyplot as plt\n",
    "import pandas as pd\n",
    "import sklearn.metrics as metrics\n",
    "import import_ipynb\n",
    "from Defs import one_error,SIM_VT,SIM_XT,SIM_Y\n",
    "# Metrics\n",
    "from sklearn.metrics import f1_score, precision_score, recall_score, confusion_matrix, \\\n",
    "    label_ranking_loss, hamming_loss, average_precision_score, coverage_error, zero_one_loss\n",
    "import warnings\n",
    "warnings.filterwarnings('ignore')\n",
    "\n",
    "## GPU or CPU\n",
    "\n",
    "GPU = False\n",
    "if GPU:\n",
    "    torch.backends.cudnn.enabled = True\n",
    "    torch.backends.cudnn.benchmark = True\n",
    "    os.environ['CUDA_VISIBLE_DEVICES'] = '0'\n",
    "    print(\"num GPUs\", torch.cuda.device_count())\n",
    "    dtype = torch.cuda.FloatTensor\n",
    "else:\n",
    "    dtype = torch.FloatTensor\n",
    "    print(\"CPU\")\n",
    "    "
   ]
  },
  {
   "cell_type": "code",
   "execution_count": 20,
   "metadata": {},
   "outputs": [
    {
     "name": "stdout",
     "output_type": "stream",
     "text": [
      "MIC: 0.2181644966656081 \n",
      " MAC: 0.09915015950796896 \n",
      " AVP: 0.3697568443335117 \n",
      " HML: 0.06312820512820513 \n",
      " RNL: 0.20435065905665284 \n",
      " ZER: 0.869 \n",
      " CVE: 7.776666666666666\n"
     ]
    },
    {
     "data": {
      "image/png": "[encoded data removed]",
      "text/plain": [
       "<Figure size 432x288 with 1 Axes>"
      ]
     },
     "metadata": {
      "needs_background": "light"
     },
     "output_type": "display_data"
    }
   ],
   "source": [
    "data = loadmat(f'../../Datasets/Arts.mat')\n",
    "train = data['train']\n",
    "test = data['test']    \n",
    "\n",
    "X_test = train[0][0].T\n",
    "Y_test = train[0][1].T\n",
    "Y_test[Y_test == -1] = 0\n",
    "\n",
    "X = torch.from_numpy(test[0][0].T).type(dtype)\n",
    "Xc = test[0][0].T\n",
    "Y = torch.from_numpy(test[0][1].T).type(dtype)\n",
    "\n",
    "Y[Y == -1] = 0\n",
    "\n",
    "n,d = X.shape\n",
    "n,c = Y.shape\n",
    "eps = torch.tensor(torch.finfo(torch.float32).eps)\n",
    "\n",
    "Alpha = [10]\n",
    "Beta  = [10]\n",
    "Gamma = [10]\n",
    "\n",
    "sig = 10\n",
    "nn  = 5\n",
    "ones = torch.ones(n,1)\n",
    "E    = torch.ones(n,n)\n",
    "H    =  E - (Ones * Ones.T / n)\n",
    "\n",
    "SXT,PXT,LXT = SIM_XT(X,sig,nn)\n",
    "SY,PY,LY = SIM_Y(Y,sig,nn)\n",
    "Yc = Y.cpu()\n",
    "Yn = Yc.numpy()\n",
    "\n",
    "eps = torch.tensor(torch.finfo(torch.float32).eps)\n",
    "ppn=0\n",
    "\n",
    "\n",
    "iter = 50\n",
    "err = torch.zeros(iter)\n",
    "for a in Alpha:\n",
    "    for be in Beta:\n",
    "        for g in Gamma:\n",
    "            MICAVG = torch.zeros((1))\n",
    "            MACAVG = torch.zeros((1))\n",
    "            AVPAVG = torch.zeros((1))\n",
    "            HMLAVG = torch.zeros((1))\n",
    "            RNLAVG = torch.zeros((1))\n",
    "            CVEAVG = torch.zeros((1))\n",
    "            ZERAVG = torch.zeros((1))   \n",
    "            AVPAVG = torch.zeros((1))  \n",
    "            for iv in range(1):\n",
    "                W = torch.rand(d, c)\n",
    "                V = torch.rand(n,c)\n",
    "                for t in range(iter):\n",
    "\n",
    "                    SVT,PVT,LVT = SIM_VT(V,sig,nn)\n",
    "                    D = 1/torch.maximum(2 * (torch.abs(Y + V)),eps)\n",
    "\n",
    "                    Wa =   X.T @ H @ V     + be * (SXT @ W) + g * ( W @ SVT)\n",
    "                    Wb =   X.T @ H @ X @ W + be * (PXT @ W) + g * ( W @ PVT)\n",
    "                    W  =    W * (Wa/  torch.maximum(Wb,eps))\n",
    "\n",
    "                    Va =   H @ X @ W + a * Y         + g * (SY @ V)\n",
    "                    Vb =   H @ V     + a * (D * (Y + V)) + g * (PY @ V)\n",
    "                    V  = V * (Va/  torch.maximum(Vb,eps))\n",
    "                    b = 1/n *(ones.T @ V - ones.T @ X @ W) \n",
    "\n",
    "                    T1 = torch.norm(X @ W + ones * b - V,p='fro') ** 2\n",
    "                    T2 = a * (torch.norm(Y + V,p=1) - 2 * torch.norm(Y * V))\n",
    "                    T3 = be * torch.trace(W.T@ LXT @ W)\n",
    "                    T4 = g * (torch.trace(V.T @ LY @ V) + torch.trace(W @ LVT @ W.T ))\n",
    "\n",
    "                    err[t] = T1 + T2 + T3 + T4\n",
    "                plt.plot(err)\n",
    "\n",
    "                WW = torch.norm(W, dim=1, p=2)\n",
    "                sQ = torch.argsort(WW)\n",
    "                sQ = sQ.cpu()\n",
    "                #                     for j in range(13):\n",
    "                #                         j+=1\n",
    "                nosf = int (20 * d / 100)\n",
    "                sX = Xc[:,sQ[d-nosf:]]\n",
    "                classifier = MLkNN(k=10)\n",
    "                classifier.fit(sX, Yn.astype(int))\n",
    "                # predict\n",
    "                predictions = classifier.predict(X_test[:,sQ[d-nosf:].long()]).toarray()\n",
    "                scores = classifier.predict_proba(X_test[:,sQ[d-nosf:].long()]).toarray()\n",
    "\n",
    "                MIC = f1_score(Y_test, predictions, average='micro')\n",
    "                MICAVG[iv] = MIC\n",
    "                MAC = f1_score(Y_test, predictions, average='macro')\n",
    "                MACAVG[iv] = MAC\n",
    "                AVP = average_precision_score(Y_test.T,scores.T)\n",
    "                AVPAVG[iv] = AVP\n",
    "                HML = hamming_loss(Y_test,predictions)\n",
    "                HMLAVG[iv] = HML\n",
    "                RNL = label_ranking_loss(Y_test,scores)\n",
    "                RNLAVG[iv] = RNL\n",
    "                ZER = zero_one_loss(Y_test,predictions)\n",
    "                ZERAVG[iv] = ZER\n",
    "                CVE = coverage_error(Y_test,scores)\n",
    "                CVEAVG[iv] = CVE\n",
    "                print('MIC:',MIC,'\\n','MAC:',MAC,'\\n','AVP:',AVP,'\\n','HML:',HML,'\\n','RNL:',RNL,'\\n','ZER:',ZER,'\\n','CVE:',CVE)"
   ]
  },
  {
   "cell_type": "code",
   "execution_count": null,
   "metadata": {},
   "outputs": [],
   "source": []
  }
 ],
 "metadata": {
  "kernelspec": {
   "display_name": "Python 3",
   "language": "python",
   "name": "python3"
  },
  "language_info": {
   "codemirror_mode": {
    "name": "ipython",
    "version": 3
   },
   "file_extension": ".py",
   "mimetype": "text/x-python",
   "name": "python",
   "nbconvert_exporter": "python",
   "pygments_lexer": "ipython3",
   "version": "3.8.5"
  }
 },
 "nbformat": 4,
 "nbformat_minor": 4
}
