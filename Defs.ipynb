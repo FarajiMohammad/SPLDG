{
 "cells": [
  {
   "cell_type": "code",
   "execution_count": 2,
   "metadata": {},
   "outputs": [
    {
     "name": "stdout",
     "output_type": "stream",
     "text": [
      "CPU\n"
     ]
    }
   ],
   "source": [
    "import numpy as np\n",
    "import torch\n",
    "\n",
    "from sklearn.neighbors import kneighbors_graph\n",
    "\n",
    "\n",
    "\n",
    "\n",
    "def one_error(outputs, test_target):\n",
    "    err_cnt = 0\n",
    "    for i in range(outputs.shape[0]):\n",
    "        idx = np.argmax(outputs[i])\n",
    "        if test_target[i, idx] != 1:\n",
    "            err_cnt += 1\n",
    "    one_error = err_cnt / outputs.shape[0]\n",
    "    return one_error\n",
    "\n",
    "\n",
    "def SIM_XT(X,sig,nn):\n",
    "    S_XT = kneighbors_graph(X.T, nn, mode='distance', include_self=False, metric='euclidean').todense()\n",
    "#     S_XT[S_XT==0]=np.inf\n",
    "    S_XT = np.array(np.exp(-S_XT**2/2 * (sig)**2))\n",
    "    S_XT = torch.from_numpy(S_XT).to(torch.float32)\n",
    "    #Dii\n",
    "    P_XT = torch.diag(torch.sum(S_XT, dim=1))\n",
    "    L_XT = P_XT - S_XT \n",
    "    return S_XT,P_XT,L_XT\n",
    "\n",
    "\n",
    "def SIM_Y(Y,sig,nn):\n",
    "    S_Y = kneighbors_graph(Y, nn, mode='distance', include_self=False, metric='euclidean').todense()\n",
    "#     S_Y[S_Y==0]=np.inf\n",
    "\n",
    "    S_Y = np.array(np.exp(-S_Y**2/2 * (sig)**2))\n",
    "    S_Y = torch.from_numpy(S_Y).to(torch.float32)\n",
    "    #Dii\n",
    "    P_Y = torch.diag(torch.sum(S_Y, dim=1))\n",
    "    L_Y = P_Y - S_Y \n",
    "    return S_Y,P_Y,L_Y\n",
    "\n",
    "def SIM_VT(V,sig,nn):\n",
    "    S_VT = kneighbors_graph(V.T, nn, mode='distance', include_self=False, metric='euclidean').todense()\n",
    "#     S_VT[S_VT==0]=np.inf\n",
    "    S_VT = np.array(np.exp(-S_VT**2/2 * (sig)**2))\n",
    "    S_VT = torch.from_numpy(S_VT).to(torch.float32)\n",
    "    #Dii\n",
    "    P_VT = torch.diag(torch.sum(S_VT, dim=1))\n",
    "    L_VT = P_VT - S_VT \n",
    "    return S_VT,P_VT,L_VT"
   ]
  }
 ],
 "metadata": {
  "kernelspec": {
   "display_name": "Python 3",
   "language": "python",
   "name": "python3"
  },
  "language_info": {
   "codemirror_mode": {
    "name": "ipython",
    "version": 3
   },
   "file_extension": ".py",
   "mimetype": "text/x-python",
   "name": "python",
   "nbconvert_exporter": "python",
   "pygments_lexer": "ipython3",
   "version": "3.8.5"
  }
 },
 "nbformat": 4,
 "nbformat_minor": 4
}
